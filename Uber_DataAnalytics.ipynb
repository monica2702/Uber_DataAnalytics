{
 "cells": [
  {
   "cell_type": "code",
   "execution_count": 53,
   "metadata": {},
   "outputs": [
    {
     "name": "stdout",
     "output_type": "stream",
     "text": [
      "Populating the interactive namespace from numpy and matplotlib\n"
     ]
    }
   ],
   "source": [
    "%matplotlib inline\n",
    "%pylab inline "
   ]
  },
  {
   "cell_type": "code",
   "execution_count": 54,
   "metadata": {},
   "outputs": [],
   "source": [
    "#pandas used for data manipulation\n",
    "import pandas as pd\n",
    "\n",
    "import numpy as np\n",
    "\n",
    "import matplotlib.pyplot as plt\n",
    "\n",
    "#seaborn is used to create visualization\n",
    "import seaborn as sb"
   ]
  },
  {
   "cell_type": "code",
   "execution_count": 55,
   "metadata": {},
   "outputs": [],
   "source": [
    "#this is loaded in a pandas dataframe in memory\n",
    "data = pd.read_csv('uber-raw-data-apr14.csv')"
   ]
  },
  {
   "cell_type": "code",
   "execution_count": 56,
   "metadata": {},
   "outputs": [
    {
     "data": {
      "text/plain": [
       "(564516, 4)"
      ]
     },
     "execution_count": 56,
     "metadata": {},
     "output_type": "execute_result"
    }
   ],
   "source": [
    "data.shape"
   ]
  },
  {
   "cell_type": "code",
   "execution_count": 57,
   "metadata": {},
   "outputs": [
    {
     "data": {
      "text/html": [
       "<div>\n",
       "<style scoped>\n",
       "    .dataframe tbody tr th:only-of-type {\n",
       "        vertical-align: middle;\n",
       "    }\n",
       "\n",
       "    .dataframe tbody tr th {\n",
       "        vertical-align: top;\n",
       "    }\n",
       "\n",
       "    .dataframe thead th {\n",
       "        text-align: right;\n",
       "    }\n",
       "</style>\n",
       "<table border=\"1\" class=\"dataframe\">\n",
       "  <thead>\n",
       "    <tr style=\"text-align: right;\">\n",
       "      <th></th>\n",
       "      <th>Date/Time</th>\n",
       "      <th>Lat</th>\n",
       "      <th>Lon</th>\n",
       "      <th>Base</th>\n",
       "    </tr>\n",
       "  </thead>\n",
       "  <tbody>\n",
       "    <tr>\n",
       "      <th>0</th>\n",
       "      <td>4/1/2014 0:11:00</td>\n",
       "      <td>40.7690</td>\n",
       "      <td>-73.9549</td>\n",
       "      <td>B02512</td>\n",
       "    </tr>\n",
       "    <tr>\n",
       "      <th>1</th>\n",
       "      <td>4/1/2014 0:17:00</td>\n",
       "      <td>40.7267</td>\n",
       "      <td>-74.0345</td>\n",
       "      <td>B02512</td>\n",
       "    </tr>\n",
       "    <tr>\n",
       "      <th>2</th>\n",
       "      <td>4/1/2014 0:21:00</td>\n",
       "      <td>40.7316</td>\n",
       "      <td>-73.9873</td>\n",
       "      <td>B02512</td>\n",
       "    </tr>\n",
       "    <tr>\n",
       "      <th>3</th>\n",
       "      <td>4/1/2014 0:28:00</td>\n",
       "      <td>40.7588</td>\n",
       "      <td>-73.9776</td>\n",
       "      <td>B02512</td>\n",
       "    </tr>\n",
       "    <tr>\n",
       "      <th>4</th>\n",
       "      <td>4/1/2014 0:33:00</td>\n",
       "      <td>40.7594</td>\n",
       "      <td>-73.9722</td>\n",
       "      <td>B02512</td>\n",
       "    </tr>\n",
       "  </tbody>\n",
       "</table>\n",
       "</div>"
      ],
      "text/plain": [
       "          Date/Time      Lat      Lon    Base\n",
       "0  4/1/2014 0:11:00  40.7690 -73.9549  B02512\n",
       "1  4/1/2014 0:17:00  40.7267 -74.0345  B02512\n",
       "2  4/1/2014 0:21:00  40.7316 -73.9873  B02512\n",
       "3  4/1/2014 0:28:00  40.7588 -73.9776  B02512\n",
       "4  4/1/2014 0:33:00  40.7594 -73.9722  B02512"
      ]
     },
     "execution_count": 57,
     "metadata": {},
     "output_type": "execute_result"
    }
   ],
   "source": [
    "data.head()"
   ]
  },
  {
   "cell_type": "code",
   "execution_count": 58,
   "metadata": {},
   "outputs": [
    {
     "data": {
      "text/html": [
       "<div>\n",
       "<style scoped>\n",
       "    .dataframe tbody tr th:only-of-type {\n",
       "        vertical-align: middle;\n",
       "    }\n",
       "\n",
       "    .dataframe tbody tr th {\n",
       "        vertical-align: top;\n",
       "    }\n",
       "\n",
       "    .dataframe thead th {\n",
       "        text-align: right;\n",
       "    }\n",
       "</style>\n",
       "<table border=\"1\" class=\"dataframe\">\n",
       "  <thead>\n",
       "    <tr style=\"text-align: right;\">\n",
       "      <th></th>\n",
       "      <th>Date/Time</th>\n",
       "      <th>Lat</th>\n",
       "      <th>Lon</th>\n",
       "      <th>Base</th>\n",
       "    </tr>\n",
       "  </thead>\n",
       "  <tbody>\n",
       "    <tr>\n",
       "      <th>564511</th>\n",
       "      <td>4/30/2014 23:22:00</td>\n",
       "      <td>40.7640</td>\n",
       "      <td>-73.9744</td>\n",
       "      <td>B02764</td>\n",
       "    </tr>\n",
       "    <tr>\n",
       "      <th>564512</th>\n",
       "      <td>4/30/2014 23:26:00</td>\n",
       "      <td>40.7629</td>\n",
       "      <td>-73.9672</td>\n",
       "      <td>B02764</td>\n",
       "    </tr>\n",
       "    <tr>\n",
       "      <th>564513</th>\n",
       "      <td>4/30/2014 23:31:00</td>\n",
       "      <td>40.7443</td>\n",
       "      <td>-73.9889</td>\n",
       "      <td>B02764</td>\n",
       "    </tr>\n",
       "    <tr>\n",
       "      <th>564514</th>\n",
       "      <td>4/30/2014 23:32:00</td>\n",
       "      <td>40.6756</td>\n",
       "      <td>-73.9405</td>\n",
       "      <td>B02764</td>\n",
       "    </tr>\n",
       "    <tr>\n",
       "      <th>564515</th>\n",
       "      <td>4/30/2014 23:48:00</td>\n",
       "      <td>40.6880</td>\n",
       "      <td>-73.9608</td>\n",
       "      <td>B02764</td>\n",
       "    </tr>\n",
       "  </tbody>\n",
       "</table>\n",
       "</div>"
      ],
      "text/plain": [
       "                 Date/Time      Lat      Lon    Base\n",
       "564511  4/30/2014 23:22:00  40.7640 -73.9744  B02764\n",
       "564512  4/30/2014 23:26:00  40.7629 -73.9672  B02764\n",
       "564513  4/30/2014 23:31:00  40.7443 -73.9889  B02764\n",
       "564514  4/30/2014 23:32:00  40.6756 -73.9405  B02764\n",
       "564515  4/30/2014 23:48:00  40.6880 -73.9608  B02764"
      ]
     },
     "execution_count": 58,
     "metadata": {},
     "output_type": "execute_result"
    }
   ],
   "source": [
    "data.tail()"
   ]
  },
  {
   "cell_type": "code",
   "execution_count": 59,
   "metadata": {},
   "outputs": [
    {
     "data": {
      "text/plain": [
       "Index(['Date/Time', 'Lat', 'Lon', 'Base'], dtype='object')"
      ]
     },
     "execution_count": 59,
     "metadata": {},
     "output_type": "execute_result"
    }
   ],
   "source": [
    "data.columns"
   ]
  },
  {
   "cell_type": "code",
   "execution_count": 60,
   "metadata": {},
   "outputs": [
    {
     "data": {
      "text/plain": [
       "0        2014-04-01 00:11:00\n",
       "1        2014-04-01 00:17:00\n",
       "2        2014-04-01 00:21:00\n",
       "3        2014-04-01 00:28:00\n",
       "4        2014-04-01 00:33:00\n",
       "5        2014-04-01 00:33:00\n",
       "6        2014-04-01 00:39:00\n",
       "7        2014-04-01 00:45:00\n",
       "8        2014-04-01 00:55:00\n",
       "9        2014-04-01 01:01:00\n",
       "10       2014-04-01 01:19:00\n",
       "11       2014-04-01 01:48:00\n",
       "12       2014-04-01 01:49:00\n",
       "13       2014-04-01 02:11:00\n",
       "14       2014-04-01 02:25:00\n",
       "15       2014-04-01 02:31:00\n",
       "16       2014-04-01 02:43:00\n",
       "17       2014-04-01 03:22:00\n",
       "18       2014-04-01 03:35:00\n",
       "19       2014-04-01 03:35:00\n",
       "20       2014-04-01 03:41:00\n",
       "21       2014-04-01 04:11:00\n",
       "22       2014-04-01 04:15:00\n",
       "23       2014-04-01 04:19:00\n",
       "24       2014-04-01 04:20:00\n",
       "25       2014-04-01 04:26:00\n",
       "26       2014-04-01 04:27:00\n",
       "27       2014-04-01 04:38:00\n",
       "28       2014-04-01 04:47:00\n",
       "29       2014-04-01 04:49:00\n",
       "                 ...        \n",
       "564486   2014-04-30 22:25:00\n",
       "564487   2014-04-30 22:25:00\n",
       "564488   2014-04-30 22:25:00\n",
       "564489   2014-04-30 22:26:00\n",
       "564490   2014-04-30 22:27:00\n",
       "564491   2014-04-30 22:27:00\n",
       "564492   2014-04-30 22:28:00\n",
       "564493   2014-04-30 22:29:00\n",
       "564494   2014-04-30 22:32:00\n",
       "564495   2014-04-30 22:35:00\n",
       "564496   2014-04-30 22:36:00\n",
       "564497   2014-04-30 22:42:00\n",
       "564498   2014-04-30 22:46:00\n",
       "564499   2014-04-30 22:47:00\n",
       "564500   2014-04-30 22:50:00\n",
       "564501   2014-04-30 22:51:00\n",
       "564502   2014-04-30 22:56:00\n",
       "564503   2014-04-30 22:57:00\n",
       "564504   2014-04-30 22:58:00\n",
       "564505   2014-04-30 22:58:00\n",
       "564506   2014-04-30 23:00:00\n",
       "564507   2014-04-30 23:04:00\n",
       "564508   2014-04-30 23:05:00\n",
       "564509   2014-04-30 23:15:00\n",
       "564510   2014-04-30 23:18:00\n",
       "564511   2014-04-30 23:22:00\n",
       "564512   2014-04-30 23:26:00\n",
       "564513   2014-04-30 23:31:00\n",
       "564514   2014-04-30 23:32:00\n",
       "564515   2014-04-30 23:48:00\n",
       "Name: Date/Time, Length: 564516, dtype: datetime64[ns]"
      ]
     },
     "execution_count": 60,
     "metadata": {},
     "output_type": "execute_result"
    }
   ],
   "source": [
    "uber['Date/Time']\n",
    "#this is a string\n",
    "#but it should be in a date-time format that Python understands"
   ]
  },
  {
   "cell_type": "code",
   "execution_count": 61,
   "metadata": {},
   "outputs": [
    {
     "name": "stdout",
     "output_type": "stream",
     "text": [
      "4/30/2014\n",
      "23:15:00\n"
     ]
    }
   ],
   "source": [
    "#take a piece of Date/Time\n",
    "dt = '4/30/2014 23:15:00'\n",
    "\n",
    "#split it into date and time using 'split' function seperated by ' '\n",
    "d, t = dt.split(' ')\n",
    "\n",
    "#print date(d) and time(t) \n",
    "print(d)\n",
    "print(t)"
   ]
  },
  {
   "cell_type": "code",
   "execution_count": 62,
   "metadata": {},
   "outputs": [
    {
     "name": "stdout",
     "output_type": "stream",
     "text": [
      "4\n",
      "30\n",
      "2014\n"
     ]
    }
   ],
   "source": [
    "m,d,y  = d.split('/')\n",
    "print(m)\n",
    "print(d)\n",
    "print(y)"
   ]
  },
  {
   "cell_type": "code",
   "execution_count": 63,
   "metadata": {},
   "outputs": [
    {
     "data": {
      "text/plain": [
       "'30'"
      ]
     },
     "execution_count": 63,
     "metadata": {},
     "output_type": "execute_result"
    }
   ],
   "source": [
    "d"
   ]
  },
  {
   "cell_type": "code",
   "execution_count": 64,
   "metadata": {},
   "outputs": [
    {
     "data": {
      "text/plain": [
       "Timestamp('2014-04-30 23:15:00')"
      ]
     },
     "execution_count": 64,
     "metadata": {},
     "output_type": "execute_result"
    }
   ],
   "source": [
    "#converting Date/Time from string to DateTime format\n",
    "dt = pd.to_datetime(dt)\n",
    "dt"
   ]
  },
  {
   "cell_type": "code",
   "execution_count": 65,
   "metadata": {},
   "outputs": [
    {
     "data": {
      "text/plain": [
       "<bound method Timestamp.day_name of Timestamp('2014-04-30 23:15:00')>"
      ]
     },
     "execution_count": 65,
     "metadata": {},
     "output_type": "execute_result"
    }
   ],
   "source": [
    "dt.day_name"
   ]
  },
  {
   "cell_type": "code",
   "execution_count": 66,
   "metadata": {},
   "outputs": [
    {
     "data": {
      "text/plain": [
       "30"
      ]
     },
     "execution_count": 66,
     "metadata": {},
     "output_type": "execute_result"
    }
   ],
   "source": [
    "dt.dayofweek\n",
    "dt.daysinmonth\n",
    "#after dt. use tab to explore more options that can be used with DateTime Format"
   ]
  },
  {
   "cell_type": "code",
   "execution_count": 67,
   "metadata": {},
   "outputs": [],
   "source": [
    "#converting data to appropriate Date/Time Format\n",
    "#'map' will apply the function pd.to_datetime to all the elements of 'Date/Time'\n",
    "\n",
    "data['Date/Time'] = data['Date/Time'].map(pd.to_datetime)"
   ]
  },
  {
   "cell_type": "code",
   "execution_count": 71,
   "metadata": {},
   "outputs": [
    {
     "data": {
      "text/plain": [
       "Timestamp('2014-04-01 00:11:00')"
      ]
     },
     "execution_count": 71,
     "metadata": {},
     "output_type": "execute_result"
    }
   ],
   "source": [
    "#checking if the data has changed into TimeStamp for first row of data \n",
    "data['Date/Time'][0]"
   ]
  },
  {
   "cell_type": "code",
   "execution_count": 77,
   "metadata": {},
   "outputs": [],
   "source": [
    "#get day of month\n",
    "def get_dom(dt):\n",
    "    return dt.day\n",
    "\n",
    "#map applies a function to the entire list\n",
    "data['dom'] = data['Date/Time'].map(get_dom)\n"
   ]
  },
  {
   "cell_type": "code",
   "execution_count": 81,
   "metadata": {},
   "outputs": [],
   "source": [
    "def get_weekday(dt):\n",
    "    return dt.day\n",
    "\n",
    "data['weekday'] = data['Date/Time'].map(get_weekdaykday)"
   ]
  },
  {
   "cell_type": "code",
   "execution_count": 83,
   "metadata": {},
   "outputs": [],
   "source": [
    "def get_hour(dt):\n",
    "    return dt.hour\n",
    "\n",
    "data['hour'] = data['Date/Time'].map(get_hour)"
   ]
  },
  {
   "cell_type": "code",
   "execution_count": 85,
   "metadata": {},
   "outputs": [
    {
     "data": {
      "text/html": [
       "<div>\n",
       "<style scoped>\n",
       "    .dataframe tbody tr th:only-of-type {\n",
       "        vertical-align: middle;\n",
       "    }\n",
       "\n",
       "    .dataframe tbody tr th {\n",
       "        vertical-align: top;\n",
       "    }\n",
       "\n",
       "    .dataframe thead th {\n",
       "        text-align: right;\n",
       "    }\n",
       "</style>\n",
       "<table border=\"1\" class=\"dataframe\">\n",
       "  <thead>\n",
       "    <tr style=\"text-align: right;\">\n",
       "      <th></th>\n",
       "      <th>Date/Time</th>\n",
       "      <th>Lat</th>\n",
       "      <th>Lon</th>\n",
       "      <th>Base</th>\n",
       "      <th>dom</th>\n",
       "      <th>weekday</th>\n",
       "      <th>hour</th>\n",
       "    </tr>\n",
       "  </thead>\n",
       "  <tbody>\n",
       "    <tr>\n",
       "      <th>564511</th>\n",
       "      <td>2014-04-30 23:22:00</td>\n",
       "      <td>40.7640</td>\n",
       "      <td>-73.9744</td>\n",
       "      <td>B02764</td>\n",
       "      <td>30</td>\n",
       "      <td>30</td>\n",
       "      <td>23</td>\n",
       "    </tr>\n",
       "    <tr>\n",
       "      <th>564512</th>\n",
       "      <td>2014-04-30 23:26:00</td>\n",
       "      <td>40.7629</td>\n",
       "      <td>-73.9672</td>\n",
       "      <td>B02764</td>\n",
       "      <td>30</td>\n",
       "      <td>30</td>\n",
       "      <td>23</td>\n",
       "    </tr>\n",
       "    <tr>\n",
       "      <th>564513</th>\n",
       "      <td>2014-04-30 23:31:00</td>\n",
       "      <td>40.7443</td>\n",
       "      <td>-73.9889</td>\n",
       "      <td>B02764</td>\n",
       "      <td>30</td>\n",
       "      <td>30</td>\n",
       "      <td>23</td>\n",
       "    </tr>\n",
       "    <tr>\n",
       "      <th>564514</th>\n",
       "      <td>2014-04-30 23:32:00</td>\n",
       "      <td>40.6756</td>\n",
       "      <td>-73.9405</td>\n",
       "      <td>B02764</td>\n",
       "      <td>30</td>\n",
       "      <td>30</td>\n",
       "      <td>23</td>\n",
       "    </tr>\n",
       "    <tr>\n",
       "      <th>564515</th>\n",
       "      <td>2014-04-30 23:48:00</td>\n",
       "      <td>40.6880</td>\n",
       "      <td>-73.9608</td>\n",
       "      <td>B02764</td>\n",
       "      <td>30</td>\n",
       "      <td>30</td>\n",
       "      <td>23</td>\n",
       "    </tr>\n",
       "  </tbody>\n",
       "</table>\n",
       "</div>"
      ],
      "text/plain": [
       "                 Date/Time      Lat      Lon    Base  dom  weekday  hour\n",
       "564511 2014-04-30 23:22:00  40.7640 -73.9744  B02764   30       30    23\n",
       "564512 2014-04-30 23:26:00  40.7629 -73.9672  B02764   30       30    23\n",
       "564513 2014-04-30 23:31:00  40.7443 -73.9889  B02764   30       30    23\n",
       "564514 2014-04-30 23:32:00  40.6756 -73.9405  B02764   30       30    23\n",
       "564515 2014-04-30 23:48:00  40.6880 -73.9608  B02764   30       30    23"
      ]
     },
     "execution_count": 85,
     "metadata": {},
     "output_type": "execute_result"
    }
   ],
   "source": [
    "data.tail()"
   ]
  },
  {
   "cell_type": "markdown",
   "metadata": {},
   "source": [
    "## Data Analysis"
   ]
  },
  {
   "cell_type": "markdown",
   "metadata": {},
   "source": [
    "### Analysis of DoM"
   ]
  },
  {
   "cell_type": "code",
   "execution_count": 86,
   "metadata": {},
   "outputs": [
    {
     "data": {
      "text/plain": [
       "(array([52721., 59680., 52581., 58631., 45427., 56764., 38781., 60673.,\n",
       "        64697., 74561.]),\n",
       " array([ 1. ,  3.9,  6.8,  9.7, 12.6, 15.5, 18.4, 21.3, 24.2, 27.1, 30. ]),\n",
       " <a list of 10 Patch objects>)"
      ]
     },
     "execution_count": 86,
     "metadata": {},
     "output_type": "execute_result"
    },
    {
     "data": {
      "image/png": "[encoded data removed]",
      "text/plain": [
       "<Figure size 432x288 with 1 Axes>"
      ]
     },
     "metadata": {
      "needs_background": "light"
     },
     "output_type": "display_data"
    }
   ],
   "source": [
    "#we can create a histogram of a numbric data by default\n",
    "#by default, it will make 10 bins\n",
    "\n",
    "hist(data.dom)"
   ]
  },
  {
   "cell_type": "code",
   "execution_count": 93,
   "metadata": {},
   "outputs": [
    {
     "data": {
      "text/plain": [
       "Text(0.5, 1.0, 'Frequency by DoM Uber Data')"
      ]
     },
     "execution_count": 93,
     "metadata": {},
     "output_type": "execute_result"
    },
    {
     "data": {
      "image/png": "[encoded data removed]",
      "text/plain": [
       "<Figure size 432x288 with 1 Axes>"
      ]
     },
     "metadata": {
      "needs_background": "light"
     },
     "output_type": "display_data"
    }
   ],
   "source": [
    "hist(data.dom, bins=30, rwidth=0.8, range=(0.5, 30.5))\n",
    "xlabel('Date of the month')\n",
    "ylabel('frequency')\n",
    "title('Frequency by DoM Uber Data')"
   ]
  },
  {
   "cell_type": "code",
   "execution_count": 100,
   "metadata": {},
   "outputs": [
    {
     "name": "stdout",
     "output_type": "stream",
     "text": [
      "1 14546\n",
      "2 17474\n",
      "3 20701\n",
      "4 26714\n",
      "5 19521\n",
      "6 13445\n",
      "7 19550\n",
      "8 16188\n",
      "9 16843\n",
      "10 20041\n",
      "11 20420\n",
      "12 18170\n",
      "13 12112\n",
      "14 12674\n",
      "15 20641\n",
      "16 17717\n",
      "17 20973\n",
      "18 18074\n",
      "19 14602\n",
      "20 11017\n",
      "21 13162\n",
      "22 16975\n",
      "23 20346\n",
      "24 23352\n",
      "25 25095\n",
      "26 24925\n",
      "27 14677\n",
      "28 15475\n",
      "29 22835\n",
      "30 36251\n"
     ]
    }
   ],
   "source": [
    "#The len() function returns the number of items in an object. \n",
    "#When the object is a string, the len() function returns the number of characters in the string.\n",
    "\n",
    "#the following command get the number of items in a group of dom\n",
    "for k, rows in data.groupby('dom'):\n",
    "    print (k, len(rows))"
   ]
  },
  {
   "cell_type": "code",
   "execution_count": 103,
   "metadata": {},
   "outputs": [
    {
     "data": {
      "text/plain": [
       "dom\n",
       "1     14546\n",
       "2     17474\n",
       "3     20701\n",
       "4     26714\n",
       "5     19521\n",
       "6     13445\n",
       "7     19550\n",
       "8     16188\n",
       "9     16843\n",
       "10    20041\n",
       "11    20420\n",
       "12    18170\n",
       "13    12112\n",
       "14    12674\n",
       "15    20641\n",
       "16    17717\n",
       "17    20973\n",
       "18    18074\n",
       "19    14602\n",
       "20    11017\n",
       "21    13162\n",
       "22    16975\n",
       "23    20346\n",
       "24    23352\n",
       "25    25095\n",
       "26    24925\n",
       "27    14677\n",
       "28    15475\n",
       "29    22835\n",
       "30    36251\n",
       "dtype: int64"
      ]
     },
     "execution_count": 103,
     "metadata": {},
     "output_type": "execute_result"
    }
   ],
   "source": [
    "#we can do that by defining a function\n",
    "\n",
    "def count_rows(rows):\n",
    "    return len(rows) \n",
    "    \n",
    "by_date = data.groupby('dom').apply(count_rows)\n",
    "by_date\n",
    "#gives the number of records per day of the month"
   ]
  },
  {
   "cell_type": "code",
   "execution_count": 104,
   "metadata": {},
   "outputs": [
    {
     "data": {
      "text/plain": [
       "[<matplotlib.lines.Line2D at 0x1b5ea7cf7f0>]"
      ]
     },
     "execution_count": 104,
     "metadata": {},
     "output_type": "execute_result"
    },
    {
     "data": {
      "image/png": "[encoded data removed]",
      "text/plain": [
       "<Figure size 432x288 with 1 Axes>"
      ]
     },
     "metadata": {
      "needs_background": "light"
     },
     "output_type": "display_data"
    }
   ],
   "source": [
    "plot(by_date)"
   ]
  },
  {
   "cell_type": "code",
   "execution_count": 106,
   "metadata": {},
   "outputs": [
    {
     "data": {
      "text/plain": [
       "<BarContainer object of 30 artists>"
      ]
     },
     "execution_count": 106,
     "metadata": {},
     "output_type": "execute_result"
    },
    {
     "data": {
      "image/png": "[encoded data removed]",
      "text/plain": [
       "<Figure size 432x288 with 1 Axes>"
      ]
     },
     "metadata": {
      "needs_background": "light"
     },
     "output_type": "display_data"
    }
   ],
   "source": [
    "bar(range(1,31), by_date)"
   ]
  },
  {
   "cell_type": "code",
   "execution_count": 108,
   "metadata": {},
   "outputs": [
    {
     "data": {
      "text/plain": [
       "dom\n",
       "20    11017\n",
       "13    12112\n",
       "14    12674\n",
       "21    13162\n",
       "6     13445\n",
       "1     14546\n",
       "19    14602\n",
       "27    14677\n",
       "28    15475\n",
       "8     16188\n",
       "9     16843\n",
       "22    16975\n",
       "2     17474\n",
       "16    17717\n",
       "18    18074\n",
       "12    18170\n",
       "5     19521\n",
       "7     19550\n",
       "10    20041\n",
       "23    20346\n",
       "11    20420\n",
       "15    20641\n",
       "3     20701\n",
       "17    20973\n",
       "29    22835\n",
       "24    23352\n",
       "26    24925\n",
       "25    25095\n",
       "4     26714\n",
       "30    36251\n",
       "dtype: int64"
      ]
     },
     "execution_count": 108,
     "metadata": {},
     "output_type": "execute_result"
    }
   ],
   "source": [
    "#sorting the above result by values\n",
    "\n",
    "by_date_sorted = by_date.sort_values()\n",
    "by_date_sorted"
   ]
  },
  {
   "cell_type": "code",
   "execution_count": 110,
   "metadata": {},
   "outputs": [
    {
     "data": {
      "text/plain": [
       "([<matplotlib.axis.XTick at 0x1b5eabce390>,\n",
       "  <matplotlib.axis.XTick at 0x1b5eab5a898>,\n",
       "  <matplotlib.axis.XTick at 0x1b5eab5a3c8>,\n",
       "  <matplotlib.axis.XTick at 0x1b5eac24550>,\n",
       "  <matplotlib.axis.XTick at 0x1b5eac249b0>,\n",
       "  <matplotlib.axis.XTick at 0x1b5eac24e80>,\n",
       "  <matplotlib.axis.XTick at 0x1b5eac2c390>,\n",
       "  <matplotlib.axis.XTick at 0x1b5eac2c898>,\n",
       "  <matplotlib.axis.XTick at 0x1b5eac2cda0>,\n",
       "  <matplotlib.axis.XTick at 0x1b5eac332e8>,\n",
       "  <matplotlib.axis.XTick at 0x1b5eac2c860>,\n",
       "  <matplotlib.axis.XTick at 0x1b5eac24a58>,\n",
       "  <matplotlib.axis.XTick at 0x1b5eac33a20>,\n",
       "  <matplotlib.axis.XTick at 0x1b5eac33dd8>,\n",
       "  <matplotlib.axis.XTick at 0x1b5eac3c320>,\n",
       "  <matplotlib.axis.XTick at 0x1b5eac3c828>,\n",
       "  <matplotlib.axis.XTick at 0x1b5eac3cd30>,\n",
       "  <matplotlib.axis.XTick at 0x1b5eac44278>,\n",
       "  <matplotlib.axis.XTick at 0x1b5eac44780>,\n",
       "  <matplotlib.axis.XTick at 0x1b5eac44c88>,\n",
       "  <matplotlib.axis.XTick at 0x1b5eac44828>,\n",
       "  <matplotlib.axis.XTick at 0x1b5eac3c6a0>,\n",
       "  <matplotlib.axis.XTick at 0x1b5eac336d8>,\n",
       "  <matplotlib.axis.XTick at 0x1b5eac4c518>,\n",
       "  <matplotlib.axis.XTick at 0x1b5eac4ca20>,\n",
       "  <matplotlib.axis.XTick at 0x1b5eac4cf28>,\n",
       "  <matplotlib.axis.XTick at 0x1b5eac54470>,\n",
       "  <matplotlib.axis.XTick at 0x1b5eac54978>,\n",
       "  <matplotlib.axis.XTick at 0x1b5eac54e80>,\n",
       "  <matplotlib.axis.XTick at 0x1b5eac54780>],\n",
       " <a list of 30 Text xticklabel objects>)"
      ]
     },
     "execution_count": 110,
     "metadata": {},
     "output_type": "execute_result"
    },
    {
     "data": {
      "image/png": "[encoded data removed]",
      "text/plain": [
       "<Figure size 432x288 with 1 Axes>"
      ]
     },
     "metadata": {
      "needs_background": "light"
     },
     "output_type": "display_data"
    }
   ],
   "source": [
    "#then we can plot with sorted data\n",
    "\n",
    "bar(range(1,31), by_date_sorted)\n",
    "xticks(range(1,31), by_date_sorted.index)"
   ]
  },
  {
   "cell_type": "code",
   "execution_count": 120,
   "metadata": {},
   "outputs": [
    {
     "data": {
      "text/plain": [
       "''"
      ]
     },
     "execution_count": 120,
     "metadata": {},
     "output_type": "execute_result"
    },
    {
     "data": {
      "image/png": "[encoded data removed]",
      "text/plain": [
       "<Figure size 720x504 with 1 Axes>"
      ]
     },
     "metadata": {
      "needs_background": "light"
     },
     "output_type": "display_data"
    }
   ],
   "source": [
    "#the above plot brings a lot of value above the plot that might not be desired\n",
    "#just put a ; at the end of the plot command to avoid that\n",
    "\n",
    "bar(range(1,31), by_date_sorted)\n",
    "xticks(range(1,31), by_date_sorted.index)\n",
    "figsize(10,7)\n",
    "xlabel('Date of the month')\n",
    "ylabel('Frequency')\n",
    "title('Frequency by DoM - Uber Data')\n",
    ";"
   ]
  },
  {
   "cell_type": "markdown",
   "metadata": {},
   "source": [
    "### Analysis by Hour"
   ]
  },
  {
   "cell_type": "code",
   "execution_count": 121,
   "metadata": {},
   "outputs": [
    {
     "data": {
      "text/plain": [
       "(array([ 24614.,  11135.,  27974.,  65706.,  36639.,  42028., 104517.,\n",
       "         88478.,  75167.,  88258.]),\n",
       " array([ 0. ,  2.3,  4.6,  6.9,  9.2, 11.5, 13.8, 16.1, 18.4, 20.7, 23. ]),\n",
       " <a list of 10 Patch objects>)"
      ]
     },
     "execution_count": 121,
     "metadata": {},
     "output_type": "execute_result"
    },
    {
     "data": {
      "image/png": "[encoded data removed]",
      "text/plain": [
       "<Figure size 720x504 with 1 Axes>"
      ]
     },
     "metadata": {
      "needs_background": "light"
     },
     "output_type": "display_data"
    }
   ],
   "source": [
    "hist(data.hour)"
   ]
  },
  {
   "cell_type": "code",
   "execution_count": null,
   "metadata": {},
   "outputs": [],
   "source": []
  }
 ],
 "metadata": {
  "kernelspec": {
   "display_name": "Python 3",
   "language": "python",
   "name": "python3"
  },
  "language_info": {
   "codemirror_mode": {
    "name": "ipython",
    "version": 3
   },
   "file_extension": ".py",
   "mimetype": "text/x-python",
   "name": "python",
   "nbconvert_exporter": "python",
   "pygments_lexer": "ipython3",
   "version": "3.7.3"
  }
 },
 "nbformat": 4,
 "nbformat_minor": 2
}
